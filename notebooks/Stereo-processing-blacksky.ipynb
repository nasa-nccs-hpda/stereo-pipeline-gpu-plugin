{
 "cells": [
  {
   "cell_type": "code",
   "execution_count": 36,
   "id": "69f264a5-a35f-4962-8f74-c3ef78ec68b1",
   "metadata": {},
   "outputs": [],
   "source": [
    "import os,glob,sys\n",
    "import subprocess\n"
   ]
  },
  {
   "cell_type": "markdown",
   "id": "75f05886-48be-47a9-8e82-54b31ce1699f",
   "metadata": {},
   "source": [
    "##### Get access to this data directory from Paul"
   ]
  },
  {
   "cell_type": "code",
   "execution_count": 15,
   "id": "8b902f41-3c5c-4795-8752-e55b376c6c31",
   "metadata": {},
   "outputs": [],
   "source": [
    "original_data_dir = '/explore/nobackup/people/pmontesa/outASP/blacksky/BSG-STEREO-117-20221009-125017-40530679-stereo/'\n",
    "left_img_fn, right_img_fn = sorted(glob.glob(os.path.join(original_data_dir,'*pan.tif')))"
   ]
  },
  {
   "cell_type": "code",
   "execution_count": 16,
   "id": "b064227a-4813-47a8-a88c-d53aadef63eb",
   "metadata": {},
   "outputs": [
    {
     "data": {
      "text/plain": [
       "'/explore/nobackup/people/pmontesa/outASP/blacksky/BSG-STEREO-117-20221009-125017-40530679-stereo/BSG-117-20221009-125017-40530679_georeferenced-pan.tif'"
      ]
     },
     "execution_count": 16,
     "metadata": {},
     "output_type": "execute_result"
    }
   ],
   "source": [
    "left_img_fn"
   ]
  },
  {
   "cell_type": "markdown",
   "id": "7c413bea-4177-4135-909b-3157edd3a6b7",
   "metadata": {},
   "source": [
    "## Bookkeeping\n",
    "Change these hardcorded paths etc here"
   ]
  },
  {
   "cell_type": "code",
   "execution_count": 19,
   "id": "63845e07-fe50-4a01-b4fa-d5e28958b105",
   "metadata": {
    "scrolled": true
   },
   "outputs": [
    {
     "name": "stdout",
     "output_type": "stream",
     "text": [
      "/panfs/ccds02/nobackup/people/sbhusha1\n",
      "mkdir: cannot create directory ‘ostfl’: File exists\n",
      "/panfs/ccds02/nobackup/people/sbhusha1/ostfl/asp_blacksky_tests\n"
     ]
    }
   ],
   "source": [
    "%cd /panfs/ccds02/nobackup/people/sbhusha1/\n",
    "!mkdir ostfl\n",
    "!mkdir ostfl/asp_blacksky_tests\n",
    "%cd ostfl/asp_blacksky_tests"
   ]
  },
  {
   "cell_type": "code",
   "execution_count": 23,
   "id": "fc1bdfbe-febc-4911-95b6-14abc5e2115a",
   "metadata": {},
   "outputs": [],
   "source": [
    "asp_dir = '/panfs/ccds02/nobackup/people/sbhusha1/sw/StereoPipeline-3.5.0-alpha-2025-04-17-x86_64-Linux/bin/'"
   ]
  },
  {
   "cell_type": "code",
   "execution_count": 24,
   "id": "09841dbb-c3cc-452f-9510-086ac9801ed6",
   "metadata": {},
   "outputs": [],
   "source": [
    "parallel_stereo_cmd = os.path.join(asp_dir,'parallel_stereo')"
   ]
  },
  {
   "cell_type": "code",
   "execution_count": 25,
   "id": "022afbb6-8dfc-42dd-8bc7-a423c7063286",
   "metadata": {},
   "outputs": [
    {
     "name": "stdout",
     "output_type": "stream",
     "text": [
      "NASA Ames Stereo Pipeline 3.5.0-alpha\n",
      "  Build ID: f7c3cf80\n",
      "  Build date: 2025-04-17\n",
      "\n",
      "Built against:\n",
      "  NASA Vision Workbench 3.5.0-alpha\n",
      "    Build ID: 3fb7eaf5\n",
      "  USGS ISIS 8.1.0\n",
      "  Boost C++ Libraries 1.82.0\n",
      "  GDAL 3.8.0 | 20231106\n",
      "\n"
     ]
    }
   ],
   "source": [
    "!$parallel_stereo_cmd --version"
   ]
  },
  {
   "cell_type": "code",
   "execution_count": 33,
   "id": "5426565d-47db-4e32-ad5d-959952051fc9",
   "metadata": {},
   "outputs": [],
   "source": [
    "def run_bash_command(cmd,verbose=False):\n",
    "    #written by Scott Henderson\n",
    "    # move to asp_binder_utils\n",
    "    \"\"\"Call a system command through the subprocess python module.\"\"\"\n",
    "    print(cmd)\n",
    "    try:\n",
    "        if verbose:\n",
    "            retcode = subprocess.call(cmd,shell=True)\n",
    "        else:\n",
    "            retcode = subprocess.call(cmd, stdout=subprocess.DEVNULL,\n",
    "                stderr=subprocess.STDOUT,shell=True)\n",
    "        if retcode < 0:\n",
    "            print(\"Child was terminated by signal\", -retcode, file=sys.stderr)\n",
    "        else:\n",
    "            print(\"Child returned\", retcode, file=sys.stderr)\n",
    "    except OSError as e:\n",
    "        print(\"Execution failed:\", e, file=sys.stderr)"
   ]
  },
  {
   "cell_type": "markdown",
   "id": "42c141cb-8327-4474-adaf-cf1d9618c91f",
   "metadata": {},
   "source": [
    "## Processing setup-1: ASP default block matching"
   ]
  },
  {
   "cell_type": "code",
   "execution_count": 34,
   "id": "44a50543-f853-43e3-beef-416b68fe9c63",
   "metadata": {},
   "outputs": [],
   "source": [
    "verbose = False #set this to True if want to look at real-time logs"
   ]
  },
  {
   "cell_type": "code",
   "execution_count": 37,
   "id": "f3df4a43-0b21-4190-8933-23600df6f2ed",
   "metadata": {},
   "outputs": [
    {
     "name": "stdout",
     "output_type": "stream",
     "text": [
      "/panfs/ccds02/nobackup/people/sbhusha1/sw/StereoPipeline-3.5.0-alpha-2025-04-17-x86_64-Linux/bin/parallel_stereo -t rpc --stereo-algorithm asp_bm --alignment-method local_epipolar /explore/nobackup/people/pmontesa/outASP/blacksky/BSG-STEREO-117-20221009-125017-40530679-stereo/BSG-117-20221009-125017-40530679_georeferenced-pan.tif /explore/nobackup/people/pmontesa/outASP/blacksky/BSG-STEREO-117-20221009-125017-40530679-stereo/BSG-117-20221009-125025-40530680_georeferenced-pan.tif asp_block/asp_block\n",
      "CPU times: user 14.2 ms, sys: 9.14 ms, total: 23.4 ms\n",
      "Wall time: 4min 13s\n"
     ]
    },
    {
     "name": "stderr",
     "output_type": "stream",
     "text": [
      "Child returned 0\n"
     ]
    }
   ],
   "source": [
    "%%time\n",
    "outprefix = 'asp_block/asp_block'\n",
    "stereo_algorithm = 'asp_bm'\n",
    "align_method = 'local_epipolar' #this is key for external plugin algorithms\n",
    "#keep other settings default for now\n",
    "stereo_cmd = f\"{parallel_stereo_cmd} -t rpc --stereo-algorithm {stereo_algorithm} --alignment-method {align_method}\"\n",
    "stereo_args = f\" {left_img_fn} {right_img_fn} {outprefix}\"\n",
    "stereo_execute = stereo_cmd + stereo_args\n",
    "\n",
    "run_bash_command(stereo_execute,verbose=False)"
   ]
  },
  {
   "cell_type": "markdown",
   "id": "ebfc31c4-252f-47b6-bf63-6dc2380fdf4d",
   "metadata": {},
   "source": [
    "## Processing setup-2: Open-CV Block-matching"
   ]
  },
  {
   "cell_type": "code",
   "execution_count": 38,
   "id": "d0fd6ced-755c-471f-a7d0-7c594cf354d7",
   "metadata": {},
   "outputs": [
    {
     "name": "stdout",
     "output_type": "stream",
     "text": [
      "/panfs/ccds02/nobackup/people/sbhusha1/sw/StereoPipeline-3.5.0-alpha-2025-04-17-x86_64-Linux/bin/parallel_stereo -t rpc --stereo-algorithm \"opencv_bm -block_size 21 -texture_thresh 10 -prefilter_cap 31 -uniqueness_ratio 15 -speckle_size 100 -speckle_range 32 -disp12_diff 1\" --alignment-method local_epipolar /explore/nobackup/people/pmontesa/outASP/blacksky/BSG-STEREO-117-20221009-125017-40530679-stereo/BSG-117-20221009-125017-40530679_georeferenced-pan.tif /explore/nobackup/people/pmontesa/outASP/blacksky/BSG-STEREO-117-20221009-125017-40530679-stereo/BSG-117-20221009-125025-40530680_georeferenced-pan.tif asp_opencv_block/asp_opencv_block\n",
      "/panfs/ccds02/nobackup/people/sbhusha1/sw/StereoPipeline-3.5.0-alpha-2025-04-17-x86_64-Linux/bin/parallel_stereo -t rpc --stereo-algorithm \"opencv_bm -block_size 21 -texture_thresh 10 -prefilter_cap 31 -uniqueness_ratio 15 -speckle_size 100 -speckle_range 32 -disp12_diff 1\" --alignment-method local_epipolar /explore/nobackup/people/pmontesa/outASP/blacksky/BSG-STEREO-117-20221009-125017-40530679-stereo/BSG-117-20221009-125017-40530679_georeferenced-pan.tif /explore/nobackup/people/pmontesa/outASP/blacksky/BSG-STEREO-117-20221009-125017-40530679-stereo/BSG-117-20221009-125025-40530680_georeferenced-pan.tif asp_opencv_block/asp_opencv_block\n",
      "CPU times: user 8.87 ms, sys: 6.36 ms, total: 15.2 ms\n",
      "Wall time: 3min 15s\n"
     ]
    },
    {
     "name": "stderr",
     "output_type": "stream",
     "text": [
      "Child returned 0\n"
     ]
    }
   ],
   "source": [
    "%%time\n",
    "outprefix = 'asp_opencv_block/asp_opencv_block'\n",
    "stereo_algorithm = '\"opencv_bm -block_size 21 -texture_thresh 10 -prefilter_cap 31 -uniqueness_ratio 15 -speckle_size 100 -speckle_range 32 -disp12_diff 1\"'\n",
    "align_method = 'local_epipolar' #this is key for external plugin algorithms\n",
    "#keep other settings default for now\n",
    "stereo_cmd = f\"{parallel_stereo_cmd} -t rpc --stereo-algorithm {stereo_algorithm} --alignment-method {align_method}\"\n",
    "stereo_args = f\" {left_img_fn} {right_img_fn} {outprefix}\"\n",
    "stereo_execute = stereo_cmd + stereo_args\n",
    "\n",
    "run_bash_command(stereo_execute,verbose=False)"
   ]
  },
  {
   "cell_type": "markdown",
   "id": "06b34d9c-bc95-4afc-be9b-852fe2968589",
   "metadata": {},
   "source": [
    "## Processing setup-3: Prepare for Open-CV GPU-based Block-matching using a tiled scheme, using external plugin options"
   ]
  },
  {
   "cell_type": "code",
   "execution_count": 42,
   "id": "91e77f27-80ba-44a2-93be-3d21788ce0e4",
   "metadata": {},
   "outputs": [],
   "source": [
    "verbose = False"
   ]
  },
  {
   "cell_type": "code",
   "execution_count": 43,
   "id": "79eab098-9aac-4e73-9e0e-63d2f6168fb1",
   "metadata": {},
   "outputs": [
    {
     "name": "stdout",
     "output_type": "stream",
     "text": [
      "/panfs/ccds02/nobackup/people/sbhusha1/sw/StereoPipeline-3.5.0-alpha-2025-04-17-x86_64-Linux/bin/parallel_stereo -t rpc --stereo-algorithm \"opencv_bm -block_size 21 -texture_thresh 10 -prefilter_cap 31 -uniqueness_ratio 15 -speckle_size 100 -speckle_range 32 -disp12_diff 1\" --alignment-method local_epipolar --stop-point 2 --keep-only unchanged /explore/nobackup/people/pmontesa/outASP/blacksky/BSG-STEREO-117-20221009-125017-40530679-stereo/BSG-117-20221009-125017-40530679_georeferenced-pan.tif /explore/nobackup/people/pmontesa/outASP/blacksky/BSG-STEREO-117-20221009-125017-40530679-stereo/BSG-117-20221009-125025-40530680_georeferenced-pan.tif tiled_outputs_for_correlator/asp_local_align\n",
      "CPU times: user 3.97 ms, sys: 6.74 ms, total: 10.7 ms\n",
      "Wall time: 1min 23s\n"
     ]
    },
    {
     "name": "stderr",
     "output_type": "stream",
     "text": [
      "Child returned 0\n"
     ]
    }
   ],
   "source": [
    "%%time\n",
    "keep_only = \"unchanged\" #do not delete the tile directory contents which are made during stereo processing\n",
    "#the tile directories have *-aligned.tif images, which will need to be passed to gpu correlators as input\n",
    "outprefix = 'tiled_outputs_for_correlator/asp_local_align'\n",
    "stop_point = 2 #stop after the locally aligned tiles are prepared after correlation\n",
    "stereo_algorithm = '\"opencv_bm -block_size 21 -texture_thresh 10 -prefilter_cap 31 -uniqueness_ratio 15 -speckle_size 100 -speckle_range 32 -disp12_diff 1\"'\n",
    "align_method = 'local_epipolar' #this is key for external plugin algorithms\n",
    "#keep other settings default for now\n",
    "stereo_cmd = f\"{parallel_stereo_cmd} -t rpc --stereo-algorithm {stereo_algorithm} --alignment-method {align_method} --stop-point {exit_point} --keep-only {keep_only}\"\n",
    "stereo_args = f\" {left_img_fn} {right_img_fn} {outprefix}\"\n",
    "stereo_execute = stereo_cmd + stereo_args\n",
    "\n",
    "run_bash_command(stereo_execute,verbose=verbose)\n"
   ]
  },
  {
   "cell_type": "code",
   "execution_count": 47,
   "id": "5c311223-6b2e-4d19-ae67-d326f67ef056",
   "metadata": {},
   "outputs": [
    {
     "name": "stdout",
     "output_type": "stream",
     "text": [
      "asp_local_align-0_0_512_512\n",
      "asp_local_align-0_1024_512_512\n",
      "asp_local_align-0_1536_512_512\n",
      "asp_local_align-0_2048_512_512\n",
      "asp_local_align-0_2560_512_512\n",
      "asp_local_align-0_3072_512_512\n",
      "asp_local_align-0_3584_512_512\n",
      "asp_local_align-0_4096_512_512\n",
      "asp_local_align-0_4608_512_512\n",
      "asp_local_align-0_5120_512_512\n",
      "asp_local_align-0_512_512_512\n",
      "asp_local_align-0_5632_512_175\n",
      "asp_local_align-1024_0_512_512\n",
      "asp_local_align-1024_1024_512_512\n",
      "asp_local_align-1024_1536_512_512\n",
      "asp_local_align-1024_2048_512_512\n",
      "asp_local_align-1024_2560_512_512\n",
      "asp_local_align-1024_3072_512_512\n",
      "asp_local_align-1024_3584_512_512\n",
      "asp_local_align-1024_4096_512_512\n",
      "asp_local_align-1024_4608_512_512\n",
      "asp_local_align-1024_5120_512_512\n",
      "asp_local_align-1024_512_512_512\n",
      "asp_local_align-1024_5632_512_175\n",
      "asp_local_align-1536_0_512_512\n",
      "asp_local_align-1536_1024_512_512\n",
      "asp_local_align-1536_1536_512_512\n",
      "asp_local_align-1536_2048_512_512\n",
      "asp_local_align-1536_2560_512_512\n",
      "asp_local_align-1536_3072_512_512\n",
      "asp_local_align-1536_3584_512_512\n",
      "asp_local_align-1536_4096_512_512\n",
      "asp_local_align-1536_4608_512_512\n",
      "asp_local_align-1536_5120_512_512\n",
      "asp_local_align-1536_512_512_512\n",
      "asp_local_align-1536_5632_512_175\n",
      "asp_local_align-2048_0_512_512\n",
      "asp_local_align-2048_1024_512_512\n",
      "asp_local_align-2048_1536_512_512\n",
      "asp_local_align-2048_2048_512_512\n",
      "asp_local_align-2048_2560_512_512\n",
      "asp_local_align-2048_3072_512_512\n",
      "asp_local_align-2048_3584_512_512\n",
      "asp_local_align-2048_4096_512_512\n",
      "asp_local_align-2048_4608_512_512\n",
      "asp_local_align-2048_5120_512_512\n",
      "asp_local_align-2048_512_512_512\n",
      "asp_local_align-2048_5632_512_175\n",
      "asp_local_align-2560_0_512_512\n",
      "asp_local_align-2560_1024_512_512\n",
      "asp_local_align-2560_1536_512_512\n",
      "asp_local_align-2560_2048_512_512\n",
      "asp_local_align-2560_2560_512_512\n",
      "asp_local_align-2560_3072_512_512\n",
      "asp_local_align-2560_3584_512_512\n",
      "asp_local_align-2560_4096_512_512\n",
      "asp_local_align-2560_4608_512_512\n",
      "asp_local_align-2560_5120_512_512\n",
      "asp_local_align-2560_512_512_512\n",
      "asp_local_align-2560_5632_512_175\n",
      "asp_local_align-3072_2048_121_512\n",
      "asp_local_align-3072_2560_121_512\n",
      "asp_local_align-3072_3072_121_512\n",
      "asp_local_align-3072_3584_121_512\n",
      "asp_local_align-3072_4096_121_512\n",
      "asp_local_align-3072_4608_121_512\n",
      "asp_local_align-3072_5120_121_512\n",
      "asp_local_align-3072_5632_121_175\n",
      "asp_local_align-512_0_512_512\n",
      "asp_local_align-512_1024_512_512\n",
      "asp_local_align-512_1536_512_512\n",
      "asp_local_align-512_2048_512_512\n",
      "asp_local_align-512_2560_512_512\n",
      "asp_local_align-512_3072_512_512\n",
      "asp_local_align-512_3584_512_512\n",
      "asp_local_align-512_4096_512_512\n",
      "asp_local_align-512_4608_512_512\n",
      "asp_local_align-512_5120_512_512\n",
      "asp_local_align-512_512_512_512\n",
      "asp_local_align-512_5632_512_175\n",
      "asp_local_align-align-L.exr\n",
      "asp_local_align-align-R.exr\n",
      "asp_local_align-BSG-117-20221009-125017-40530679_georeferenced-pan__BSG-117-20221009-125025-40530680_georeferenced-pan.match\n",
      "asp_local_align-BSG-117-20221009-125017-40530679_georeferenced-pan-stats.tif\n",
      "asp_local_align-BSG-117-20221009-125017-40530679_georeferenced-pan.vwip\n",
      "asp_local_align-BSG-117-20221009-125025-40530680_georeferenced-pan-stats.tif\n",
      "asp_local_align-dirList.txt\n",
      "asp_local_align-D_sub.tif\n",
      "asp_local_align-D.tif\n",
      "asp_local_align-info.txt\n",
      "asp_local_align-lMask_sub.tif\n",
      "asp_local_align-lMask.tif\n",
      "asp_local_align-log-stereo_corr-07-02-1424-1575842.txt\n",
      "asp_local_align-log-stereo_corr-07-02-1427-1587885.txt\n",
      "asp_local_align-log-stereo_pprc-07-02-1424-1574909.txt\n",
      "asp_local_align-log-stereo_pprc-07-02-1427-1587808.txt\n",
      "asp_local_align-lStats.tif\n",
      "asp_local_align-L_sub.tif\n",
      "asp_local_align-L.tif\n",
      "asp_local_align-PC_sub.tif\n",
      "asp_local_align-rMask_sub.tif\n",
      "asp_local_align-rMask.tif\n",
      "asp_local_align-rStats.tif\n",
      "asp_local_align-R_sub.tif\n",
      "asp_local_align-R.tif\n",
      "asp_local_align-stereo.default\n",
      "asp_local_align-tiles-index.txt\n"
     ]
    }
   ],
   "source": [
    "#note the several tile directories which are outputted from this run\n",
    "#proceed to next cell\n",
    "!ls tiled_outputs_for_correlator"
   ]
  },
  {
   "cell_type": "code",
   "execution_count": 49,
   "id": "8e9f3a65-eca3-4d18-a9a4-4ec2dc0d807c",
   "metadata": {},
   "outputs": [
    {
     "name": "stdout",
     "output_type": "stream",
     "text": [
      "512_4096_512_512-aligned-disparity.tif\n",
      "512_4096_512_512-align-L.exr\n",
      "512_4096_512_512-align-R.exr\n",
      "512_4096_512_512-BSG-117-20221009-125017-40530679_georeferenced-pan__BSG-117-20221009-125025-40530680_georeferenced-pan.match\n",
      "512_4096_512_512-BSG-117-20221009-125017-40530679_georeferenced-pan-stats.tif\n",
      "512_4096_512_512-BSG-117-20221009-125017-40530679_georeferenced-pan.vwip\n",
      "512_4096_512_512-BSG-117-20221009-125025-40530680_georeferenced-pan-stats.tif\n",
      "512_4096_512_512-dirList.txt\n",
      "512_4096_512_512-Dnosym.tif\n",
      "512_4096_512_512-D_sub.tif\n",
      "512_4096_512_512-D.tif\n",
      "512_4096_512_512-info.txt\n",
      "512_4096_512_512-left-aligned-tile.tif\n",
      "512_4096_512_512-lMask_sub.tif\n",
      "512_4096_512_512-lMask.tif\n",
      "512_4096_512_512-log-stereo_corr-07-02-1426-1584187.txt\n",
      "512_4096_512_512-log-stereo_corr-07-02-1428-1595464.txt\n",
      "512_4096_512_512-lStats.tif\n",
      "512_4096_512_512-L_sub.tif\n",
      "512_4096_512_512-L.tif\n",
      "512_4096_512_512-PC_sub.tif\n",
      "512_4096_512_512-right-aligned-tile.tif\n",
      "512_4096_512_512-rMask_sub.tif\n",
      "512_4096_512_512-rMask.tif\n",
      "512_4096_512_512-rStats.tif\n",
      "512_4096_512_512-R_sub.tif\n",
      "512_4096_512_512-R.tif\n",
      "512_4096_512_512-stereo_corr-resource-usage.txt\n",
      "512_4096_512_512-stereo.default\n",
      "512_4096_512_512-tiles-index.txt\n"
     ]
    }
   ],
   "source": [
    "#any of these folders have two tiles which are locally aligned\n",
    "#see sufix \"-left-aligned-tile.tif\" and \"-right-aligned-tile.tif\"\n",
    "#these tiles are ready to be input to external correlators!\n",
    "#Example below\n",
    "!ls tiled_outputs_for_correlator/asp_local_align-512_4096_512_512"
   ]
  },
  {
   "cell_type": "markdown",
   "id": "9ba2036a-6b83-44a6-8734-6ea88ffc5f19",
   "metadata": {},
   "source": [
    "## Processing setup-4: Prepare for Open-CV GPU-based Block-matching to produce a single very large tile for initial testing only, using external plugin options"
   ]
  },
  {
   "cell_type": "code",
   "execution_count": 65,
   "id": "82ac6eaa-8686-4199-82a3-f96824553737",
   "metadata": {},
   "outputs": [
    {
     "name": "stdout",
     "output_type": "stream",
     "text": [
      "/panfs/ccds02/nobackup/people/sbhusha1/sw/StereoPipeline-3.5.0-alpha-2025-04-17-x86_64-Linux/bin/parallel_stereo --job-size-w 8000 --job-size-h 8000 -t rpc --stereo-algorithm \"opencv_bm -block_size 21 -texture_thresh 10 -prefilter_cap 31 -uniqueness_ratio 15 -speckle_size 100 -speckle_range 32 -disp12_diff 1\" --alignment-method local_epipolar --stop-point 2 --keep-only unchanged /explore/nobackup/people/pmontesa/outASP/blacksky/BSG-STEREO-117-20221009-125017-40530679-stereo/BSG-117-20221009-125017-40530679_georeferenced-pan.tif /explore/nobackup/people/pmontesa/outASP/blacksky/BSG-STEREO-117-20221009-125017-40530679-stereo/BSG-117-20221009-125025-40530680_georeferenced-pan.tif large_tile_output_for_correlator/asp_local_align\n",
      "CPU times: user 2.02 ms, sys: 7.07 ms, total: 9.09 ms\n",
      "Wall time: 51.6 s\n"
     ]
    },
    {
     "name": "stderr",
     "output_type": "stream",
     "text": [
      "Child returned 0\n"
     ]
    }
   ],
   "source": [
    "%%time\n",
    "verbose = False\n",
    "keep_only = \"unchanged\" #do not delete the tile directory contents which are made during stereo processing\n",
    "#the tile directories have *-aligned.tif images, which will need to be passed to gpu correlators as input\n",
    "outprefix = 'large_tile_output_for_correlator/asp_local_align'\n",
    "stop_point = 2 #stop after the locally aligned tiles are prepared after correlation\n",
    "stereo_algorithm = '\"opencv_bm -block_size 21 -texture_thresh 10 -prefilter_cap 31 -uniqueness_ratio 15 -speckle_size 100 -speckle_range 32 -disp12_diff 1\"'\n",
    "align_method = 'local_epipolar' #this is key for external plugin algorithms\n",
    "#keep other settings default for now\n",
    "tile_size = 8000 # a number bigger than blacksky image extent of 6600, 4400 px\n",
    "stereo_cmd = f\"{parallel_stereo_cmd} --job-size-w {tile_size} --job-size-h {tile_size} -t rpc --stereo-algorithm {stereo_algorithm} --alignment-method {align_method} --stop-point {exit_point} --keep-only {keep_only}\"\n",
    "stereo_args = f\" {left_img_fn} {right_img_fn} {outprefix}\"\n",
    "stereo_execute = stereo_cmd + stereo_args\n",
    "\n",
    "run_bash_command(stereo_execute,verbose=verbose)"
   ]
  },
  {
   "cell_type": "code",
   "execution_count": 69,
   "id": "2a750de9-99fc-45f1-bde8-6d051b679aad",
   "metadata": {},
   "outputs": [
    {
     "name": "stdout",
     "output_type": "stream",
     "text": [
      "-rw------- 1 sbhusha1 k3004 72M Jul  2 14:44 large_tile_output_for_correlator/asp_local_align-0_0_3193_5807/0_0_3193_5807-left-aligned-tile.tif\n",
      "-rw------- 1 sbhusha1 k3004 69M Jul  2 14:44 large_tile_output_for_correlator/asp_local_align-0_0_3193_5807/0_0_3193_5807-right-aligned-tile.tif\n"
     ]
    }
   ],
   "source": [
    "## this run only produces one large aligned left and right image\n",
    "## hopefully this will be easier to work with in initial testing 😊\n",
    "!ls large_tile_output_for_correlator/asp_local_align-0_0_3193_5807/*aligned-tile.tif -lha"
   ]
  },
  {
   "cell_type": "markdown",
   "id": "6d3aaae6-5f3a-4523-9dd8-50c2496efee5",
   "metadata": {},
   "source": [
    "## What we want\n",
    "* Eventually, the external GPU-correlator should be able to accept the left and right aligned images as input, and output a disparity map. Once we get there, we can work with Oleg to make decide next steps 😊\n",
    "* e.g., `external_gpu_corr left_align.tif right_align.tif disparit_result.tif`\n",
    "* The ouput disparity should have three bands, first band the horizontal disparity, second band the vertical disparity, and the third band as \"good-pixel-map\", so kind of a boolean array with 1 to where we have valid left and right disparity, and 0 for where the disparity is missing. <we can get rid of this requirement, need to talk with Oleg, and refine from there.>"
   ]
  },
  {
   "cell_type": "code",
   "execution_count": null,
   "id": "b4bae46d-c20d-49ad-91a0-21d97a6cb5b2",
   "metadata": {},
   "outputs": [],
   "source": []
  }
 ],
 "metadata": {
  "kernelspec": {
   "display_name": "Python [conda env:miniconda3-bhushan_gdal3]",
   "language": "python",
   "name": "conda-env-miniconda3-bhushan_gdal3-py"
  },
  "language_info": {
   "codemirror_mode": {
    "name": "ipython",
    "version": 3
   },
   "file_extension": ".py",
   "mimetype": "text/x-python",
   "name": "python",
   "nbconvert_exporter": "python",
   "pygments_lexer": "ipython3",
   "version": "3.12.0"
  }
 },
 "nbformat": 4,
 "nbformat_minor": 5
}
