{
 "cells": [
  {
   "cell_type": "code",
   "execution_count": 8,
   "id": "f1eb9e0b-0478-4bd9-9916-e8630d9b9ab0",
   "metadata": {},
   "outputs": [
    {
     "name": "stdout",
     "output_type": "stream",
     "text": [
      "/panfs/ccds02/nobackup/people/sbhusha1/ostfl/maxar\n"
     ]
    }
   ],
   "source": [
    "%cd /panfs/ccds02/nobackup/people/sbhusha1/ostfl/maxar/\n",
    "asp_exec = \"/panfs/ccds02/nobackup/people/sbhusha1/sw/StereoPipeline-3.5.0-alpha-2025-04-17-x86_64-Linux/bin/\""
   ]
  },
  {
   "cell_type": "code",
   "execution_count": 2,
   "id": "faf2636d-c777-4195-9da7-e55beced23cf",
   "metadata": {},
   "outputs": [],
   "source": [
    "import os,glob,sys\n",
    "import subprocess"
   ]
  },
  {
   "cell_type": "code",
   "execution_count": 3,
   "id": "58ddce5a-4602-4c78-a3d5-06646b6df346",
   "metadata": {},
   "outputs": [],
   "source": [
    "from dgtools import dglib"
   ]
  },
  {
   "cell_type": "code",
   "execution_count": 4,
   "id": "f3ba2342-5991-4315-a94f-f60cca776c1a",
   "metadata": {},
   "outputs": [],
   "source": [
    "stereo_dir = 'WV02WV02_20091222_10300100023BC100_1030010003D22F00/'\n",
    "pair_metadata = dglib.dir_pair_dict(stereo_dir)"
   ]
  },
  {
   "cell_type": "code",
   "execution_count": 11,
   "id": "640c56f8-3141-4bfb-abbf-c5bca8984aa6",
   "metadata": {},
   "outputs": [],
   "source": [
    "id1 = pair_metadata['id1_dict']['id']\n",
    "gsd1 = pair_metadata['id1_dict']['gsd']\n",
    "id2 = pair_metadata['id2_dict']['id']\n",
    "gsd2 = pair_metadata['id2_dict']['gsd']\n",
    "\n",
    "if gsd1<gsd2:\n",
    "    #ID1 image is finer resolution\n",
    "    left_img = sorted(glob.glob(os.path.join(stereo_dir,f\"{id1}*r100.tif\")))[0]\n",
    "    right_img = sorted(glob.glob(os.path.join(stereo_dir,f\"{id2}*r100.tif\")))[0]\n",
    "else:\n",
    "    #ID2 image is finer resolution\n",
    "    left_img = sorted(glob.glob(os.path.join(stereo_dir,f\"{id2}*r100.tif\")))[0]\n",
    "    right_img = sorted(glob.glob(os.path.join(stereo_dir,f\"{id1}*r100.tif\")))[0]\n",
    "\n",
    "left_xml = os.path.splitext(left_img)[0]+\".xml\"\n",
    "right_xml = os.path.splitext(right_img)[0]+\".xml\""
   ]
  },
  {
   "cell_type": "markdown",
   "id": "7a92f521-b065-431f-991e-44dbb49afa1d",
   "metadata": {},
   "source": [
    "## Question 1: How does OpenCV Block Matching & SGM compare to ASP Block Matching & SGM?\n",
    "\n",
    "* First experiment is over a flat site with narrow convergence angle pair, where \"ASP-special pre-stereo orthorectification\" is not required\n",
    "* OpenCV Block matching results already exist, here we prepare jobs for\n",
    "    * OpenCV SGM\n",
    "    * ASP Block matching\n",
    "    * ASP SGM"
   ]
  },
  {
   "cell_type": "markdown",
   "id": "86830d8e-aa9f-43f4-9357-801660e8354e",
   "metadata": {},
   "source": [
    "For reference, this is the opencv_bm which started before this notebook was made\n",
    "#! /bin/bash\n",
    "#SBATCH --job-name=opencv_bm -t 15:00:00 -c10 --mem=190G\n",
    "\n",
    "cd /panfs/ccds02/nobackup/people/sbhusha1/ostfl/maxar/WV02WV02_20091222_10300100023BC100_1030010003D22F00\n",
    "\n",
    "/panfs/ccds02/nobackup/people/sbhusha1/sw/StereoPipeline-3.5.0-alpha-2025-04-17-x86_64-Linux/bin/parallel_stereo -t rpc --stereo-algorithm \"opencv_bm -block_size 21 -texture_thresh 10 -prefilter_cap 31 -uniqueness_ratio 15 -speckle_size 100 -speckle_range 32 -disp12_diff 1\" --alignment-method local_epipolar --corr-seed-mode 1 --sgm-collar-size 0 --corr-tile-size 1024 1030010003D22F00.r100.tif 1030010003D22F00.r100.xml 10300100023BC100.r100.tif 10300100023BC100.r100.xml opencv_bm/opencv_bm_processing"
   ]
  },
  {
   "cell_type": "markdown",
   "id": "3b59bb45-caaa-479d-9741-022367b2f822",
   "metadata": {},
   "source": [
    "## OpenCV SGM"
   ]
  },
  {
   "cell_type": "code",
   "execution_count": 13,
   "id": "fcba0027-0154-4689-b8fd-56589bd007ab",
   "metadata": {},
   "outputs": [],
   "source": [
    "#! /bin/bash #SBATCH --job-name=opencv_bm -t 15:00:00 -c10 --mem=190G\n",
    "\n",
    "\n",
    "parent_dir = \"/panfs/ccds02/nobackup/people/sbhusha1/ostfl/maxar/\""
   ]
  },
  {
   "cell_type": "code",
   "execution_count": 15,
   "id": "327f335f-7f45-4da7-ba5d-b10d1ee13b5f",
   "metadata": {},
   "outputs": [],
   "source": [
    "\n",
    "job_fn = f\"opencv_sgbm_job.sh\"\n",
    "output_directory = os.path.join(stereo_dir,'cpu/opencv_sgbm/opencv_sgbm_processing')\n",
    "\n",
    "\n",
    "opencv_alg1 = \"opencv_sgbm -mode sgbm -block_size 7 -P1 8 -P2 32\"\n",
    "opencv_alg2 = \" -prefilter_cap 63 -uniqueness_ratio 10 -speckle_size 100\"\n",
    "opencv_alg3 = \" -speckle_range 32 -disp12_diff 1\"\n",
    "opencv_alg = opencv_alg1 + opencv_alg2 + opencv_alg3\n",
    "\n",
    "\n",
    "opencv_sgm_opt = f' -t rpc --alignment-method local_epipolar --stereo-algorithm \"{opencv_alg}\"'\n",
    "opencv_args = f' {left_img} {left_xml} {right_img} {right_xml} {output_directory}'\n",
    "\n",
    "parallel_stereo_call = \"/panfs/ccds02/nobackup/people/sbhusha1/sw/StereoPipeline-3.5.0-alpha-2025-04-17-x86_64-Linux/bin/parallel_stereo\"\n",
    "parallel_stereo_cmd = f'time {parallel_stereo_call} {opencv_sgm_opt} {opencv_args}'\n",
    "\n",
    "output_pointcloud = f\"{output_directory}*-PC.tif\"\n",
    "\n",
    "p2dem_call = \"/panfs/ccds02/nobackup/people/sbhusha1/sw/StereoPipeline-3.5.0-alpha-2025-04-17-x86_64-Linux/bin/point2dem\"\n",
    "p2dem_opts = \"--tr 4.0 --nodata-value -9999.0 --t_srs EPSG:32616 --errorimage\"\n",
    "p2dem_cmd = f'time {p2dem_call} {p2dem_opts} {output_pointcloud}'\n",
    "\n",
    "with open(job_fn,'w') as f:\n",
    "    slurm_keyword = f'#! /bin/bash \\n #SBATCH --job-name={os.path.basename(job_fn)} -t 20:00:00 -c10 --mem=190G'\n",
    "    directory_change = f'cd {parent_dir}'\n",
    "    out_str = slurm_keyword+\"\\n\"+directory_change+\"\\n\"+parallel_stereo_cmd+\"\\n\"+p2dem_cmd\n",
    "    f.write(out_str)"
   ]
  },
  {
   "cell_type": "markdown",
   "id": "918931f8-6eb1-400c-84fc-46fa64301522",
   "metadata": {},
   "source": [
    "## ASP SGM\n",
    "* Note that we can not try to have each and every parameter for processing the same between different software algorithms\n",
    "* We will rely on keeping the correlation kernel size consistent for a given processing algorithm.\n",
    "\n",
    "* In our SGM runs, both ASP and OpenCV will use 7 by 7 px kernels\n",
    "* In our block matching runs, both ASP and OpenCV will use 21 by 21 px kernels"
   ]
  },
  {
   "cell_type": "markdown",
   "id": "50c8e7df-7aa0-45ff-97f0-7959d3cf8d1f",
   "metadata": {},
   "source": [
    "/vast_swbuild/swbuild3/sbhusha1/pip_git_sw/StereoPipeline-3.5.0-alpha-2024-11-25-x86_64-Linux/libexec/stereo_corr --corr-memory-limit-mb 3000 --cost-mode 3 --corr-tile-size 1024 --stereo-algorithm asp_mgm --num-matches-from-disparity 400000 -t csmmapcsm --subpixel-mode 9 --corr-kernel 7 7 --subpixel-kernel 15 15 --corr-max-levels 5 --corr-timeout 480 --filter-mode 1 --erode-max-size 0 --alignment-method None 104001006E942500_ortho_0.32m.tif 104001006D788E00_ortho_0.32m.tif csm_aligned2refdem-csm-104001006E942500.r100.adjusted_state.json csm_aligned2refdem-csm-104001006D788E00.r100.adjusted_state.json dem_ortho_0.32m/20210920_1819_104001006E942500_104001006D788E00 /nobackupp28/sbhusha1/stv/pcd/coincident_usgs/WV03WV03_20210920_104001006E942500_104001006D788E00/refdem/COP30_E.tif --corr-seed-mode 1 --sgm-collar-size 256"
   ]
  },
  {
   "cell_type": "code",
   "execution_count": 20,
   "id": "76cd3182-b24c-4d9a-b3ff-bf5e6100e3ba",
   "metadata": {},
   "outputs": [],
   "source": [
    "job_fn = f\"asp_sgm_job.sh\"\n",
    "output_directory = os.path.join(stereo_dir,'cpu/asp_sgm/asp_sgm_processing')\n",
    "corr_kernel = 7\n",
    "\n",
    "\n",
    "## ASP algorithm specific parameters\n",
    "stereo_algorithm = \"asp_sgm\"\n",
    "subpix_kernel = 15\n",
    "subpix_mode = 9\n",
    "filter_mode = 1 \n",
    "erode_max_size = 0\n",
    "cost_mode = 3\n",
    "corr_mem_lim = 3000\n",
    "\n",
    "asp_opt1 = f\"--corr-kernel {corr_kernel} {corr_kernel} --subpixel-mode {subpix_mode}\"\n",
    "asp_opt2 = f\" --subpixel-kernel 15 15 --filter-mode {filter_mode} --cost-mode {cost_mode}\"\n",
    "asp_opt3= f\" --corr-memory-limit-mb {corr_mem_lim} --stereo-algorithm {stereo_algorithm}\"\n",
    "asp_opt = asp_opt1 + asp_opt2 + asp_opt3\n",
    "\n",
    "\n",
    "asp_sgm_opt = f' -t rpc --alignment-method local_epipolar ' + asp_opt\n",
    "asp_args = f' {left_img} {left_xml} {right_img} {right_xml} {output_directory}'\n",
    "\n",
    "parallel_stereo_call = \"/panfs/ccds02/nobackup/people/sbhusha1/sw/StereoPipeline-3.5.0-alpha-2025-04-17-x86_64-Linux/bin/parallel_stereo\"\n",
    "parallel_stereo_cmd = f'time {parallel_stereo_call} {asp_sgm_opt} {asp_args}'\n",
    "\n",
    "output_pointcloud = f\"{output_directory}*-PC.tif\"\n",
    "\n",
    "p2dem_call = \"/panfs/ccds02/nobackup/people/sbhusha1/sw/StereoPipeline-3.5.0-alpha-2025-04-17-x86_64-Linux/bin/point2dem\"\n",
    "p2dem_opts = \"--tr 4.0 --nodata-value -9999.0 --t_srs EPSG:32616 --errorimage\"\n",
    "p2dem_cmd = f'time {p2dem_call} {p2dem_opts} {output_pointcloud}'\n",
    "\n",
    "with open(job_fn,'w') as f:\n",
    "    slurm_keyword = f'#! /bin/bash \\n #SBATCH --job-name={os.path.basename(job_fn)} -t 20:00:00 -c10 --mem=190G'\n",
    "    directory_change = f'cd {parent_dir}'\n",
    "    out_str = slurm_keyword+\"\\n\"+directory_change+\"\\n\"+parallel_stereo_cmd+\"\\n\"+p2dem_cmd\n",
    "    f.write(out_str)"
   ]
  },
  {
   "cell_type": "markdown",
   "id": "3a718fd1-f140-45a7-bd6e-8894b7c817d0",
   "metadata": {},
   "source": [
    "## ASP Block"
   ]
  },
  {
   "cell_type": "code",
   "execution_count": 21,
   "id": "f5232dda-a995-4e99-97ba-71458b50c859",
   "metadata": {},
   "outputs": [],
   "source": [
    "job_fn = f\"asp_block_job.sh\"\n",
    "output_directory = os.path.join(stereo_dir,'cpu/asp_block/asp_block_processing')\n",
    "corr_kernel = 21\n",
    "\n",
    "\n",
    "## ASP algorithm specific parameters\n",
    "stereo_algorithm = \"asp_bm\"\n",
    "subpix_kernel = 15\n",
    "subpix_mode = 1\n",
    "filter_mode = 1 \n",
    "erode_max_size = 0\n",
    "cost_mode = 2\n",
    "corr_mem_lim = 5000\n",
    "\n",
    "asp_opt1 = f\"--corr-kernel {corr_kernel} {corr_kernel} --subpixel-mode {subpix_mode}\"\n",
    "asp_opt2 = f\" --subpixel-kernel 15 15 --filter-mode {filter_mode} --cost-mode {cost_mode}\"\n",
    "asp_opt3= f\" --corr-memory-limit-mb {corr_mem_lim} --stereo-algorithm {stereo_algorithm}\"\n",
    "asp_opt = asp_opt1 + asp_opt2 + asp_opt3\n",
    "\n",
    "\n",
    "asp_sgm_opt = f' -t rpc --alignment-method local_epipolar ' + asp_opt\n",
    "asp_args = f' {left_img} {left_xml} {right_img} {right_xml} {output_directory}'\n",
    "\n",
    "parallel_stereo_call = \"/panfs/ccds02/nobackup/people/sbhusha1/sw/StereoPipeline-3.5.0-alpha-2025-04-17-x86_64-Linux/bin/parallel_stereo\"\n",
    "parallel_stereo_cmd = f'time {parallel_stereo_call} {asp_sgm_opt} {asp_args}'\n",
    "\n",
    "output_pointcloud = f\"{output_directory}*-PC.tif\"\n",
    "\n",
    "p2dem_call = \"/panfs/ccds02/nobackup/people/sbhusha1/sw/StereoPipeline-3.5.0-alpha-2025-04-17-x86_64-Linux/bin/point2dem\"\n",
    "p2dem_opts = \"--tr 4.0 --nodata-value -9999.0 --t_srs EPSG:32616 --errorimage\"\n",
    "p2dem_cmd = f'time {p2dem_call} {p2dem_opts} {output_pointcloud}'\n",
    "\n",
    "with open(job_fn,'w') as f:\n",
    "    slurm_keyword = f'#! /bin/bash \\n #SBATCH --job-name={os.path.basename(job_fn)} -t 20:00:00 -c10 --mem=190G'\n",
    "    directory_change = f'cd {parent_dir}'\n",
    "    out_str = slurm_keyword+\"\\n\"+directory_change+\"\\n\"+parallel_stereo_cmd+\"\\n\"+p2dem_cmd\n",
    "    f.write(out_str)"
   ]
  },
  {
   "cell_type": "code",
   "execution_count": null,
   "id": "e683eff1-a31b-4ea0-b651-8b452d551635",
   "metadata": {},
   "outputs": [],
   "source": []
  }
 ],
 "metadata": {
  "kernelspec": {
   "display_name": "Python [conda env:.conda-bhushan_gdal3]",
   "language": "python",
   "name": "conda-env-.conda-bhushan_gdal3-py"
  },
  "language_info": {
   "codemirror_mode": {
    "name": "ipython",
    "version": 3
   },
   "file_extension": ".py",
   "mimetype": "text/x-python",
   "name": "python",
   "nbconvert_exporter": "python",
   "pygments_lexer": "ipython3",
   "version": "3.13.5"
  }
 },
 "nbformat": 4,
 "nbformat_minor": 5
}
